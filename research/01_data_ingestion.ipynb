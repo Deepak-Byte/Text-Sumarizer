{
 "cells": [
  {
   "cell_type": "code",
   "execution_count": null,
   "id": "88c9fd02",
   "metadata": {
    "vscode": {
     "languageId": "plaintext"
    }
   },
   "outputs": [],
   "source": [
    "import os"
   ]
  },
  {
   "cell_type": "code",
   "execution_count": null,
   "id": "4a44dafc",
   "metadata": {
    "vscode": {
     "languageId": "plaintext"
    }
   },
   "outputs": [],
   "source": [
    "%pwd              # to check current directory"
   ]
  },
  {
   "cell_type": "code",
   "execution_count": null,
   "id": "ac3791a7",
   "metadata": {
    "vscode": {
     "languageId": "plaintext"
    }
   },
   "outputs": [],
   "source": [
    "os.chdir(\"../\")"
   ]
  },
  {
   "cell_type": "code",
   "execution_count": null,
   "id": "4b736fe4",
   "metadata": {
    "vscode": {
     "languageId": "plaintext"
    }
   },
   "outputs": [],
   "source": [
    "%pwd"
   ]
  },
  {
   "cell_type": "code",
   "execution_count": null,
   "id": "3b59fba7",
   "metadata": {
    "vscode": {
     "languageId": "plaintext"
    }
   },
   "outputs": [],
   "source": [
    "from dataclasses import dataclasses\n",
    "from pathlib  import pathlib\n",
    "\n",
    "@dataclasses(frozen=True)\n",
    "class DataIngestionConfig:\n",
    "   root_dir: Path\n",
    "   source_url: str\n",
    "   local_data_file: Path \n",
    "   unzip_dir: Path\n"
   ]
  },
  {
   "cell_type": "code",
   "execution_count": null,
   "id": "3d2ea01b",
   "metadata": {
    "vscode": {
     "languageId": "plaintext"
    }
   },
   "outputs": [],
   "source": [
    "from TextSummarizer.constant import *\n",
    "from TextSummarizer.utiles.common import read_yaml, create_directories"
   ]
  },
  {
   "cell_type": "code",
   "execution_count": null,
   "id": "3b5e408e",
   "metadata": {
    "vscode": {
     "languageId": "plaintext"
    }
   },
   "outputs": [],
   "source": [
    "class configurationManager:\n",
    "def __init__(self, config_filepath= CONFIG_FILE_PATH, params_filepath = PARAMS_FILE_PATH):\n",
    "  self.config = read_yaml(config_filepath)\n",
    "  self.params = read_yaml(params_filepath)\n",
    "\n",
    "  create_directories([self.config.artifacts_root]) \n",
    "\n",
    "def get_data_ingestion_config(self)-> DataIngestionConfig:\n",
    "   config = self.config.data_ingestion\n",
    "   create_directories([config.root_dir])\n",
    "\n",
    "   data_ingestion_config = DataIngestionConfig(\n",
    "    root_dir = config.root_dir,\n",
    "    sourc_url = config.sourc_url,\n",
    "    local_data_file = config.local_data_file,\n",
    "    unzip_dir = config.unzip_dir\n",
    "   )\n",
    "   return data_ingestion_config"
   ]
  },
  {
   "cell_type": "code",
   "execution_count": null,
   "id": "0880d3a0",
   "metadata": {
    "vscode": {
     "languageId": "plaintext"
    }
   },
   "outputs": [],
   "source": [
    "import os\n",
    "import urllib.request as request\n",
    "import zipfile\n",
    "from TextSummarizer.logging import logger\n",
    "from TextSummarizer.utiles.common import get_size\n"
   ]
  },
  {
   "cell_type": "code",
   "execution_count": null,
   "id": "f5d65506",
   "metadata": {
    "vscode": {
     "languageId": "plaintext"
    }
   },
   "outputs": [],
   "source": [
    "class DataIngestion:\n",
    "    def __init__(self, config:DataIngestionConfig):\n",
    "       self.config = config\n",
    "\n",
    "    def download_file(self):\n",
    "        if not os.path.exists(self.config.local_data_file):\n",
    "            file_name, headers = request.urlretrieve(\n",
    "               url = self.config.source_URL,\n",
    "               file_name = self.config.local_data_file\n",
    "            )   \n",
    "            logger.info(f\"{file_name} download! with following info: \\n{headers}\")\n",
    "        else:\n",
    "            logger.info(f\"file_name alread exists if size : {get_size(Path(self.config.local_data_file))}\")\n",
    "\n",
    "    def extract_zip_file(self):\n",
    "        \"\"\"\n",
    "        zip_file_path: str\n",
    "        Extracts the zip file into the data directory\n",
    "        Function returns None\n",
    "        \"\"\"\n",
    "        unzip_path = self.config.unzip_dir\n",
    "        os.makedirs(unzip_path, exist_ok=True)\n",
    "        with zipfile.ZipFile(self.config.local_data_file, 'r') as zip_ref:\n",
    "            zip_ref.extractall(unzip_path)"
   ]
  },
  {
   "cell_type": "code",
   "execution_count": null,
   "id": "42715f88",
   "metadata": {
    "vscode": {
     "languageId": "plaintext"
    }
   },
   "outputs": [],
   "source": [
    "try:\n",
    "    config = ConfigurationManager()\n",
    "    data_ingestion_config = config.get_data_ingestion_config()\n",
    "    data_ingestion = DataIngestion(config=data_ingestion_config)\n",
    "    data_ingestion.download_file()\n",
    "    data_ingestion.extract_zip_file()\n",
    "except Exception as e:\n",
    "    raise e"
   ]
  }
 ],
 "metadata": {
  "language_info": {
   "name": "python"
  }
 },
 "nbformat": 4,
 "nbformat_minor": 5
}
